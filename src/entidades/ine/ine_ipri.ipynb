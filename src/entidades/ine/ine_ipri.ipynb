{
 "cells": [
  {
   "cell_type": "markdown",
   "metadata": {},
   "source": [
    "\n",
    "## INE Instituto nacional de estadística"
   ]
  },
  {
   "cell_type": "code",
   "execution_count": 1,
   "metadata": {},
   "outputs": [
    {
     "name": "stdout",
     "output_type": "stream",
     "text": [
      "/home/node /home/node True\n",
      "/home/node/serhi/src/lib\n",
      "SerHi Tools\n"
     ]
    }
   ],
   "source": [
    "%load_ext autoreload\n",
    "%autoreload 2\n",
    "import json\n",
    "import os\n",
    "import re\n",
    "import sys\n",
    "from datetime import date\n",
    "from pathlib import Path\n",
    "\n",
    "import matplotlib.dates as mdates\n",
    "import matplotlib.pyplot as plt\n",
    "import pandas as pd\n",
    "import requests\n",
    "\n",
    "cwd = Path.cwd()\n",
    "home = Path.home()\n",
    "module_path = f\"{home}/serhi/src/lib\" if cwd == home else f\"{cwd.parents[1]}/lib\"\n",
    "sys.path.append(module_path)\n",
    "import serhi"
   ]
  },
  {
   "cell_type": "code",
   "execution_count": 3,
   "metadata": {},
   "outputs": [],
   "source": [
    "# inicio\n",
    "# cambiar como corresponda\n",
    "ENTITY = \"ine\"\n",
    "NB_NAME = \"ine_ipri\"\n",
    "serhi.initialize(ENTITY, NB_NAME)"
   ]
  },
  {
   "cell_type": "code",
   "execution_count": 4,
   "metadata": {},
   "outputs": [
    {
     "name": "stdout",
     "output_type": "stream",
     "text": [
      "serhi.CWD /home/node\n",
      "serhi.BASE_PATH ../../..\n",
      "serhi.DATA_PATH ../../../data/process/ine/\n",
      "serhi.DOWN_PATH ../../../tmp/download/ine/\n",
      "serhi.OUT_FILE ../../../data/process/ine/ine_ipri.csv\n"
     ]
    },
    {
     "ename": "PermissionError",
     "evalue": "[Errno 13] Permission denied: '../../../data'",
     "output_type": "error",
     "traceback": [
      "\u001b[0;31m---------------------------------------------------------------------------\u001b[0m",
      "\u001b[0;31mPermissionError\u001b[0m                           Traceback (most recent call last)",
      "Cell \u001b[0;32mIn [4], line 1\u001b[0m\n\u001b[0;32m----> 1\u001b[0m \u001b[43mserhi\u001b[49m\u001b[38;5;241;43m.\u001b[39;49m\u001b[43minitialize\u001b[49m\u001b[43m(\u001b[49m\u001b[43mENTITY\u001b[49m\u001b[43m,\u001b[49m\u001b[43m \u001b[49m\u001b[43mNB_NAME\u001b[49m\u001b[43m)\u001b[49m\n",
      "File \u001b[0;32m~/serhi/src/lib/serhi.py:33\u001b[0m, in \u001b[0;36minitialize\u001b[0;34m(entyty, name)\u001b[0m\n\u001b[1;32m     30\u001b[0m os\u001b[39m.\u001b[39msystem(\u001b[39mf\u001b[39m\u001b[39m\"\u001b[39m\u001b[39mecho serhi.OUT_FILE  \u001b[39m\u001b[39m{\u001b[39;00mOUT_FILE\u001b[39m}\u001b[39;00m\u001b[39m\"\u001b[39m)\n\u001b[1;32m     32\u001b[0m \u001b[39mif\u001b[39;00m \u001b[39mnot\u001b[39;00m os\u001b[39m.\u001b[39mpath\u001b[39m.\u001b[39mexists(DATA_PATH):\n\u001b[0;32m---> 33\u001b[0m     os\u001b[39m.\u001b[39;49mmakedirs(DATA_PATH, exist_ok\u001b[39m=\u001b[39;49m\u001b[39mTrue\u001b[39;49;00m)\n\u001b[1;32m     35\u001b[0m \u001b[39mif\u001b[39;00m \u001b[39mnot\u001b[39;00m os\u001b[39m.\u001b[39mpath\u001b[39m.\u001b[39mexists(DOWN_PATH):\n\u001b[1;32m     36\u001b[0m     os\u001b[39m.\u001b[39mmakedirs(DOWN_PATH, exist_ok\u001b[39m=\u001b[39m\u001b[39mTrue\u001b[39;00m)\n",
      "File \u001b[0;32m/usr/lib/python3.9/os.py:215\u001b[0m, in \u001b[0;36mmakedirs\u001b[0;34m(name, mode, exist_ok)\u001b[0m\n\u001b[1;32m    213\u001b[0m \u001b[39mif\u001b[39;00m head \u001b[39mand\u001b[39;00m tail \u001b[39mand\u001b[39;00m \u001b[39mnot\u001b[39;00m path\u001b[39m.\u001b[39mexists(head):\n\u001b[1;32m    214\u001b[0m     \u001b[39mtry\u001b[39;00m:\n\u001b[0;32m--> 215\u001b[0m         makedirs(head, exist_ok\u001b[39m=\u001b[39;49mexist_ok)\n\u001b[1;32m    216\u001b[0m     \u001b[39mexcept\u001b[39;00m \u001b[39mFileExistsError\u001b[39;00m:\n\u001b[1;32m    217\u001b[0m         \u001b[39m# Defeats race condition when another thread created the path\u001b[39;00m\n\u001b[1;32m    218\u001b[0m         \u001b[39mpass\u001b[39;00m\n",
      "File \u001b[0;32m/usr/lib/python3.9/os.py:215\u001b[0m, in \u001b[0;36mmakedirs\u001b[0;34m(name, mode, exist_ok)\u001b[0m\n\u001b[1;32m    213\u001b[0m \u001b[39mif\u001b[39;00m head \u001b[39mand\u001b[39;00m tail \u001b[39mand\u001b[39;00m \u001b[39mnot\u001b[39;00m path\u001b[39m.\u001b[39mexists(head):\n\u001b[1;32m    214\u001b[0m     \u001b[39mtry\u001b[39;00m:\n\u001b[0;32m--> 215\u001b[0m         makedirs(head, exist_ok\u001b[39m=\u001b[39;49mexist_ok)\n\u001b[1;32m    216\u001b[0m     \u001b[39mexcept\u001b[39;00m \u001b[39mFileExistsError\u001b[39;00m:\n\u001b[1;32m    217\u001b[0m         \u001b[39m# Defeats race condition when another thread created the path\u001b[39;00m\n\u001b[1;32m    218\u001b[0m         \u001b[39mpass\u001b[39;00m\n",
      "File \u001b[0;32m/usr/lib/python3.9/os.py:225\u001b[0m, in \u001b[0;36mmakedirs\u001b[0;34m(name, mode, exist_ok)\u001b[0m\n\u001b[1;32m    223\u001b[0m         \u001b[39mreturn\u001b[39;00m\n\u001b[1;32m    224\u001b[0m \u001b[39mtry\u001b[39;00m:\n\u001b[0;32m--> 225\u001b[0m     mkdir(name, mode)\n\u001b[1;32m    226\u001b[0m \u001b[39mexcept\u001b[39;00m \u001b[39mOSError\u001b[39;00m:\n\u001b[1;32m    227\u001b[0m     \u001b[39m# Cannot rely on checking for EEXIST, since the operating system\u001b[39;00m\n\u001b[1;32m    228\u001b[0m     \u001b[39m# could give priority to other errors like EACCES or EROFS\u001b[39;00m\n\u001b[1;32m    229\u001b[0m     \u001b[39mif\u001b[39;00m \u001b[39mnot\u001b[39;00m exist_ok \u001b[39mor\u001b[39;00m \u001b[39mnot\u001b[39;00m path\u001b[39m.\u001b[39misdir(name):\n",
      "\u001b[0;31mPermissionError\u001b[0m: [Errno 13] Permission denied: '../../../data'"
     ]
    }
   ],
   "source": []
  },
  {
   "cell_type": "code",
   "execution_count": null,
   "metadata": {},
   "outputs": [],
   "source": [
    "print(dir(serhi))"
   ]
  },
  {
   "cell_type": "code",
   "execution_count": null,
   "metadata": {},
   "outputs": [],
   "source": [
    "def download_files(urls):\n",
    "    for loc in urls:\n",
    "        url = loc[\"url\"]\n",
    "        r = requests.get(url, allow_redirects=True)\n",
    "        print(f\"Downloading {url}\")\n",
    "        open(serhi.DOWN_PATH + loc[\"file\"], \"wb\").write(r.content)\n",
    "\n",
    "\n",
    "urls = [\n",
    "    # ipri\n",
    "    {\n",
    "        \"url\": \"https://www.ine.es/jaxiT3/files/t/es/xlsx/27065.xlsx?nocab=1\",\n",
    "        \"file\": \"ine_ipri.xlsx\",\n",
    "    },\n",
    "]\n",
    "\n",
    "download_files(urls)"
   ]
  },
  {
   "cell_type": "code",
   "execution_count": null,
   "metadata": {},
   "outputs": [],
   "source": [
    "# IPRI\n",
    "loc = urls[0]\n",
    "file = loc[\"file\"]\n",
    "df = pd.read_excel(serhi.DOWN_PATH + file, skiprows=6, nrows=162, header=(0, 1))\n",
    "df.head()"
   ]
  },
  {
   "cell_type": "code",
   "execution_count": null,
   "metadata": {},
   "outputs": [],
   "source": [
    "df.tail()"
   ]
  },
  {
   "cell_type": "code",
   "execution_count": null,
   "metadata": {},
   "outputs": [],
   "source": [
    "df.columns.levels[0]"
   ]
  },
  {
   "cell_type": "code",
   "execution_count": null,
   "metadata": {},
   "outputs": [],
   "source": [
    "df = df.rename(columns={\" \": \"Name\"})"
   ]
  },
  {
   "cell_type": "code",
   "execution_count": null,
   "metadata": {},
   "outputs": [],
   "source": [
    "# da = df.xs('Índice', axis=1, level=0, drop_level=True)"
   ]
  },
  {
   "cell_type": "code",
   "execution_count": null,
   "metadata": {},
   "outputs": [],
   "source": [
    "df = df[['Name', 'Índice']]"
   ]
  },
  {
   "cell_type": "code",
   "execution_count": null,
   "metadata": {},
   "outputs": [],
   "source": [
    "df"
   ]
  },
  {
   "cell_type": "code",
   "execution_count": null,
   "metadata": {},
   "outputs": [],
   "source": [
    "df.columns = df.columns.droplevel()\n",
    "df"
   ]
  },
  {
   "cell_type": "code",
   "execution_count": null,
   "metadata": {},
   "outputs": [],
   "source": [
    "def ine_sheet_ccaa(df, set_name, nccaa=18, ndatos=9, ud=\"idx\"):\n",
    "    dr = pd.DataFrame()\n",
    "    for i in range(0, nccaa):\n",
    "        # get next rows\n",
    "        dt = df.loc[i * ndatos : i * ndatos + (ndatos - 1)]\n",
    "        dt.reset_index(inplace=True, drop=True)\n",
    "        # save zone\n",
    "        zone = dt.loc[0][0]\n",
    "        # delete first row\n",
    "        dt = dt.loc[1:]\n",
    "        # change columns names - to months\n",
    "        columns = [w.replace(\"M\", \"-\") for w in dt.columns]\n",
    "        columns = [re.sub(r\"\\.[0-9]\", \"\", w) for w in columns]\n",
    "        columns = [w + \"-01\" for w in columns]\n",
    "        columns[0] = \"Name\"\n",
    "        dt.columns = columns\n",
    "        dt = dt.T\n",
    "        # promote columns\n",
    "        dt.columns = dt.iloc[0]\n",
    "        dt = dt[1:]\n",
    "        dt.columns = [w.strip() for w in dt.columns]\n",
    "        # change index name\n",
    "        dt.index.rename(\"Date\", inplace=True)\n",
    "        # sort and scale\n",
    "        dt.sort_index(ascending=True, inplace=True)\n",
    "        # transpose\n",
    "        dt = dt.unstack()\n",
    "        dt = dt.reset_index()\n",
    "        # set zone\n",
    "        dt[\"Zone\"] = zone\n",
    "        dt[\"Ud\"] = ud\n",
    "        # set column value\n",
    "        dt = dt.rename(columns={0: \"Value\"})\n",
    "        # concat\n",
    "        dr = pd.concat([dr, dt])\n",
    "\n",
    "    dr[\"Set\"] = set_name\n",
    "    dr.rename(columns={\"level_0\": \"Name\"}, inplace=True)\n",
    "    return dr"
   ]
  },
  {
   "cell_type": "code",
   "execution_count": null,
   "metadata": {},
   "outputs": [],
   "source": [
    "df = ine_sheet_ccaa(df, set_name=\"INE_IPRI\")\n",
    "df.head()"
   ]
  },
  {
   "cell_type": "code",
   "execution_count": null,
   "metadata": {},
   "outputs": [],
   "source": [
    "df.info()"
   ]
  },
  {
   "cell_type": "code",
   "execution_count": null,
   "metadata": {},
   "outputs": [],
   "source": [
    "df[\"Name\"].unique()"
   ]
  },
  {
   "cell_type": "code",
   "execution_count": null,
   "metadata": {},
   "outputs": [],
   "source": [
    "df[\"Zone\"].unique()"
   ]
  },
  {
   "cell_type": "code",
   "execution_count": null,
   "metadata": {},
   "outputs": [],
   "source": [
    "df"
   ]
  },
  {
   "cell_type": "code",
   "execution_count": null,
   "metadata": {},
   "outputs": [],
   "source": [
    "df[\"Date\"] = pd.to_datetime(df[\"Date\"])\n",
    "df[\"Date\"].agg([\"min\", \"max\"])"
   ]
  },
  {
   "cell_type": "code",
   "execution_count": null,
   "metadata": {},
   "outputs": [],
   "source": [
    "df.info()"
   ]
  },
  {
   "cell_type": "code",
   "execution_count": null,
   "metadata": {},
   "outputs": [],
   "source": [
    "# fill na with 0\n",
    "df[\"Value\"] = pd.to_numeric(df[\"Value\"], errors=\"coerce\")\n",
    "df[\"Value\"] = df[\"Value\"].fillna(0)"
   ]
  },
  {
   "cell_type": "code",
   "execution_count": null,
   "metadata": {},
   "outputs": [],
   "source": [
    "names = df[\"Name\"].unique()\n",
    "zones = df[\"Zone\"].unique()\n",
    "\n",
    "for z in zones:\n",
    "    fig, ax = plt.subplots(figsize=(15, 8))\n",
    "    print(z)\n",
    "    dx = df[df[\"Zone\"] == z]\n",
    "    plt.title(z)\n",
    "    for n in names:\n",
    "        dxz = dx[dx[\"Name\"] == n]\n",
    "        plt.plot(dxz[\"Date\"], dxz[\"Value\"], label=f\"{n}\")\n",
    "    plt.legend(title=\"Group\")\n",
    "    plt.setp(ax.get_xticklabels(), rotation=90)\n",
    "    plt.show()"
   ]
  },
  {
   "cell_type": "code",
   "execution_count": null,
   "metadata": {},
   "outputs": [],
   "source": [
    "# Guardamos la serie procesada\n",
    "df.to_csv(serhi.OUT_FILE, index=False)"
   ]
  },
  {
   "cell_type": "code",
   "execution_count": null,
   "metadata": {},
   "outputs": [],
   "source": []
  }
 ],
 "metadata": {
  "kernelspec": {
   "display_name": "Python 3 (ipykernel)",
   "language": "python",
   "name": "python3"
  },
  "language_info": {
   "codemirror_mode": {
    "name": "ipython",
    "version": 3
   },
   "file_extension": ".py",
   "mimetype": "text/x-python",
   "name": "python",
   "nbconvert_exporter": "python",
   "pygments_lexer": "ipython3",
   "version": "3.9.14"
  },
  "vscode": {
   "interpreter": {
    "hash": "31f2aee4e71d21fbe5cf8b01ff0e069b9275f58929596ceb00d14d90e3e16cd6"
   }
  }
 },
 "nbformat": 4,
 "nbformat_minor": 4
}
